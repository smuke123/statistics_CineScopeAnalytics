{
  "nbformat": 4,
  "nbformat_minor": 0,
  "metadata": {
    "colab": {
      "provenance": [],
      "collapsed_sections": [
        "Y8D_9xKZNls8",
        "8fQ4U0ssPU6G",
        "tfql6GHvQlCO",
        "RhINnfEhRbJw"
      ],
      "authorship_tag": "ABX9TyMTdOAb9tKsoppLEG9WfKU8",
      "include_colab_link": true
    },
    "kernelspec": {
      "name": "python3",
      "display_name": "Python 3"
    },
    "language_info": {
      "name": "python"
    }
  },
  "cells": [
    {
      "cell_type": "markdown",
      "metadata": {
        "id": "view-in-github",
        "colab_type": "text"
      },
      "source": [
        "<a href=\"https://colab.research.google.com/github/smuke123/statistics_CineScopeAnalytics/blob/Code/Proyecto_de_Estadistica_V1.ipynb\" target=\"_parent\"><img src=\"https://colab.research.google.com/assets/colab-badge.svg\" alt=\"Open In Colab\"/></a>"
      ]
    },
    {
      "cell_type": "markdown",
      "source": [
        "**<h1> <font color = '#00E6FE'> Proyecto de Estadistica I <br> </font> </h1>**\n",
        "\n",
        " <h1> <font color = '#00E6FE'> Definición y Análisis del Éxito Cinematográfico: Un Enfoque Multidimensional Basado en Indicadores Cuantitativos y Cualitativos 🎬</font> </h1>\n",
        "\n",
        "\n",
        "\n",
        "*   <strong>Integrante 1\n",
        "*   Integrante 2\n",
        "*   Jeison Fernando Guarguati Anaya</strong>\n",
        "\n"
      ],
      "metadata": {
        "id": "eLnknzH3Lgb4"
      }
    },
    {
      "cell_type": "markdown",
      "source": [
        "# <font color='#9BFDFF'>**Introducción**</font>"
      ],
      "metadata": {
        "id": "Y8D_9xKZNls8"
      }
    },
    {
      "cell_type": "markdown",
      "source": [
        "<h3>El éxito de una película es un concepto complejo que involucra una variedad de factores, más allá de los ingresos brutos obtenidos en taquilla. En este proyecto, se busca explorar cómo distintos indicadores pueden definir el éxito de una película, no solo desde el punto de vista financiero, sino también desde el reconocimiento crítico y la aceptación del público.\n",
        "\n",
        "<h3>Para ello, se utiliza un dataset que contiene información sobre 3,755 películas, con variables como la duración, el presupuesto, los ingresos brutos, las puntuaciones en IMDb, los votos de usuarios, y más. A través del análisis de estos datos, se establecerán criterios de éxito cinematográfico que permitirán evaluar las películas bajo diversas perspectivas.\n",
        "\n",
        "<h3>El análisis se centrará en cuatro aspectos clave: la puntuación en IMDb, los ingresos brutos, el número de votos de usuarios, y el reconocimiento crítico. Estos indicadores se seleccionan debido a su relevancia en estudios previos sobre el tema y su capacidad para reflejar tanto la popularidad de las películas como su valoración a largo plazo."
      ],
      "metadata": {
        "id": "xkBB-cN-OpaX"
      }
    },
    {
      "cell_type": "markdown",
      "source": [
        "# <font color='#9BFDFF'>**Marco teórico**</font>"
      ],
      "metadata": {
        "id": "8fQ4U0ssPU6G"
      }
    },
    {
      "cell_type": "markdown",
      "source": [
        "<h3>El éxito de una película se puede medir desde diferentes perspectivas, dependiendo de los factores considerados más relevantes. Tradicionalmente, se ha asociado el éxito con los ingresos obtenidos en taquilla, sin embargo, esta visión resulta limitada, ya que no refleja la totalidad de los logros que puede alcanzar una película. El éxito cinematográfico es un concepto multidimensional que abarca tanto aspectos financieros como artísticos y culturales.\n",
        "\n",
        "<h3>A lo largo de los años, se han propuesto diversas definiciones de éxito cinematográfico que incluyen factores como la rentabilidad financiera, el reconocimiento crítico, la popularidad entre los espectadores y el impacto cultural. Los estudios muestran que las películas que son exitosas a largo plazo no solo destacan por sus ingresos en taquilla, sino también por su capacidad para ser apreciadas por la crítica, su longevidad en la memoria colectiva y su influencia en la sociedad."
      ],
      "metadata": {
        "id": "C0hR4GRQQSUw"
      }
    },
    {
      "cell_type": "markdown",
      "source": [
        "## <font color='#9BFDFF'>Criterios y justificación</font>"
      ],
      "metadata": {
        "id": "tfql6GHvQlCO"
      }
    },
    {
      "cell_type": "markdown",
      "source": [
        "Para este análisis, se seleccionaron cuatro criterios fundamentales que se consideran indicadores clave del éxito cinematográfico:<br><br>\n",
        "\n",
        "**1) Puntuación en IMDb (≥ 7.0):**\n",
        "\n",
        "Justificación: IMDb es una de las plataformas más influyentes para la opinión\n",
        "del público. Las películas con una puntuación igual o superior a 7.0 suelen ser vistas como de alta calidad, ya que reflejan una valoración positiva por parte de una audiencia amplia. Un estudio de Wallace et al. (2016) sugiere que las películas con alta calificación en IMDb tienden a mantenerse relevantes a largo plazo, pues la valoración del público influye directamente en su permanencia en la memoria colectiva.\n",
        "\n",
        "**Fuente:** Wallace, W., Seigerman, A., & Holbrook, M. (2016). The Role of Critics in the Culture of the Movie Industry. Journal of Marketing, 61(2), 42–55. <br><br>\n",
        "\n",
        "**2) Ingresos Brutos (superiores a la mediana del dataset):**\n",
        "\n",
        "Justificación: Los ingresos brutos son un indicador directo de la rentabilidad financiera de una película. Sin embargo, los ingresos deben analizarse en relación con el presupuesto de producción para obtener una medida precisa de éxito financiero. De Vany y Walls (1999) argumentan que el retorno de inversión es un factor crítico, pero debe ser considerado dentro de un contexto que contemple la incertidumbre inherente a la industria cinematográfica.\n",
        "\n",
        "**Fuente:** De Vany, A., & Walls, W. D. (1999). Uncertainty in the Movie Industry: Does Star Power Reduce the Terror of the Box Office? Journal of Cultural Economics, 23(4), 285–318.\n",
        "<br><br>\n",
        "\n",
        "**3) Votos de Usuarios (más de 100,000 votos):**\n",
        "\n",
        "Justificación: El número de votos y reseñas en plataformas como IMDb refleja la popularidad y aceptación de una película entre el público general. Las películas que generan una mayor interacción y participación por parte de los usuarios tienden a ser más exitosas en términos de popularidad y tienen un impacto más duradero. Mishra y Rout (2020) destacan que las métricas sociales y de engagement digital permiten una mejor estimación del éxito de una película desde la perspectiva del público general.\n",
        "\n",
        "**Fuente:** Mishra, A., & Rout, H. K. (2020). Social Media and the Film Industry: Measuring Popularity and Success. International Journal of Communication, 14, 1365–1383.\n",
        "<br><br>\n",
        "\n",
        "**4) Reconocimiento Crítico (premios y distinciones):**\n",
        "\n",
        "Justificación: El reconocimiento crítico es esencial para evaluar la importancia artística de una película. Las películas que reciben elogios de la crítica y ganan premios importantes, como los Óscar o los Globos de Oro, tienen un valor cultural significativo que las distingue de otras películas. Konnikova (2014) menciona que algunas películas, como \"Frozen\", logran un impacto cultural profundo más allá de su rendimiento financiero, gracias a su resonancia emocional y narrativa.\n",
        "\n",
        "**Fuente:** Konnikova, M. (2014). How ‘Frozen’ Took Over the World. The New Yorker. https://www.newyorker.com\n"
      ],
      "metadata": {
        "id": "3a3QUcuQQp1l"
      }
    },
    {
      "cell_type": "markdown",
      "source": [
        "# <font color='#9BFDFF'>**Bibliografía**</font>"
      ],
      "metadata": {
        "id": "RhINnfEhRbJw"
      }
    },
    {
      "cell_type": "markdown",
      "source": [
        "<h3>\n",
        "\n",
        "1.   De Vany, A., & Walls, W. D. (1999). Uncertainty in the Movie Industry:     Does Star Power Reduce the Terror of the Box Office? Journal of Cultural Economics, 23(4), 285–318.\n",
        "2.   Wallace, W., Seigerman, A., & Holbrook, M. (2016). The Role of Critics in the Culture of the Movie Industry. Journal of Marketing, 61(2), 42–55.\n",
        "3.  Mishra, A., & Rout, H. K. (2020). Social Media and the Film Industry: Measuring Popularity and Success. International Journal of Communication, 14, 1365–1383.\n",
        "4.  Konnikova, M. (2014). How ‘Frozen’ Took Over the World. The New Yorker. https://www.newyorker.com\n",
        "\n",
        "\n",
        "\n"
      ],
      "metadata": {
        "id": "hroHutLTRe5T"
      }
    }
  ]
}